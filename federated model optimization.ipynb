{
 "cells": [
  {
   "cell_type": "code",
   "execution_count": null,
   "metadata": {
    "colab": {},
    "colab_type": "code",
    "id": "GJVRTox5IHN7"
   },
   "outputs": [],
   "source": [
    "pip install --quiet --upgrade tensorflow_federated"
   ]
  },
  {
   "cell_type": "code",
   "execution_count": null,
   "metadata": {
    "colab": {},
    "colab_type": "code",
    "id": "Rk1cK0dPIUiS"
   },
   "outputs": [],
   "source": [
    "import collections\n",
    "\n",
    "import numpy as np\n",
    "import tensorflow as tf\n",
    "import tensorflow_federated as tff\n",
    "\n",
    "tf.compat.v1.enable_v2_behavior()\n",
    "\n",
    "# TODO(b/148678573,b/148685415): must use the ReferenceExecutor because it\n",
    "# supports unbounded references and tff.sequence_* intrinsics.\n",
    "tff.framework.set_default_executor(tff.framework.ReferenceExecutor())"
   ]
  },
  {
   "cell_type": "code",
   "execution_count": null,
   "metadata": {
    "colab": {},
    "colab_type": "code",
    "id": "cbQtG7eNIY1Y"
   },
   "outputs": [],
   "source": [
    "@tff.federated_computation\n",
    "def hello_world():\n",
    "  return 'Hello, World!'\n",
    "\n",
    "hello_world()"
   ]
  },
  {
   "cell_type": "code",
   "execution_count": null,
   "metadata": {
    "colab": {},
    "colab_type": "code",
    "id": "hrSfLIAfIby4"
   },
   "outputs": [],
   "source": [
    "from google.colab import drive\n",
    "drive.mount('/content/drive')"
   ]
  },
  {
   "cell_type": "code",
   "execution_count": null,
   "metadata": {
    "colab": {},
    "colab_type": "code",
    "id": "ZTOh3zmEIgfJ"
   },
   "outputs": [],
   "source": [
    "import numpy as np\n",
    "import pandas as pd\n",
    "\n",
    "#all_buildings = pd.read_csv('/content/drive/My Drive/Dataset/building meta data.csv')\n",
    "zipfile = np.load('/content/drive/My Drive/Dataset/Office_Cold_6000-9000_6-10_13.npz', allow_pickle=True)\n",
    "\n",
    "Building_data = zipfile['data']\n",
    "Building_data_norm = zipfile['data_norm']\n",
    "Building_names = zipfile['name']\n",
    "List_of_names = pd.Series(Building_names).unique()\n",
    "\n",
    "NUM_EXAMPLES_PER_USER = 10000\n",
    "BATCH_SIZE = 500\n",
    "\n",
    "EC_min = np.min(Building_data[:,-1])\n",
    "EC_max = np.max(Building_data[:,-1])\n",
    "EC_mean = np.mean(Building_data[:,-1])\n",
    "\n",
    "def get_data_for_name(Data, Names, name):\n",
    "  output_sequence = []\n",
    "  all_samples = [i for i, n in enumerate(Names) if n == name]\n",
    "\n",
    "  for i in range(0, min(len(all_samples), NUM_EXAMPLES_PER_USER), BATCH_SIZE):\n",
    "    batch_samples = all_samples[i:i+BATCH_SIZE]\n",
    "    output_sequence.append({'x':np.array([Data[i,:-1] for i in batch_samples], dtype=np.float32),\n",
    "                'y':np.array([Data[i,-1] for i in batch_samples], dtype=np.float32)})\n",
    "  return output_sequence\n",
    "\n",
    "def get_label_for_name(Data, Names, name):\n",
    "  output_sequence = []\n",
    "  all_samples = [i for i, n in enumerate(Names) if n == name]\n",
    "\n",
    "  for i in range(0, min(len(all_samples), NUM_EXAMPLES_PER_USER), BATCH_SIZE):\n",
    "    batch_samples = all_samples[i:i+BATCH_SIZE]\n",
    "    output_sequence.append({'y':np.array([Data[i,-1] for i in batch_samples], dtype=np.float32)})\n",
    "  return output_sequence\n",
    "\n",
    "\n",
    "federated_train_data = [get_data_for_name(Building_data_norm, Building_names, name) for name in List_of_names[:-2]]\n",
    "\n",
    "federated_valid_data = [get_data_for_name(Building_data_norm, Building_names, name) for name in List_of_names[-2:-1]]\n",
    "\n",
    "#local_data = [get_data_for_name(Building_data_norm, Building_names, name) for name in List_of_names[-1:]]\n",
    "\n",
    "#local_train_data = local_data[0][:2]\n",
    "\n",
    "#local_test_data = local_data[0][-2:]\n",
    "\n",
    "#Label_test_data = [get_label_for_name(Building_data, Building_names, name) for name in List_of_names[-1:]][0][-2:]"
   ]
  },
  {
   "cell_type": "code",
   "execution_count": null,
   "metadata": {
    "colab": {},
    "colab_type": "code",
    "id": "zWQQMwCfKXTQ"
   },
   "outputs": [],
   "source": [
    "BATCH_SPEC = collections.OrderedDict(x=tf.TensorSpec(shape=[None,6], dtype=tf.float32), y=tf.TensorSpec(shape=[None], dtype=tf.float32))"
   ]
  },
  {
   "cell_type": "code",
   "execution_count": null,
   "metadata": {
    "colab": {},
    "colab_type": "code",
    "id": "q251EVM6ky-d"
   },
   "outputs": [],
   "source": [
    "num_layers = 1\n",
    "num_neurons = 5\n",
    "activation = 'relu'\n",
    "\n",
    "def create_keras_model(num_layers, num_neurons, activation):\n",
    "  model = tf.keras.models.Sequential()\n",
    "  model.add(tf.keras.layers.Dense(num_neurons, activation=activation, input_shape=(6,)))\n",
    "  for i in range(num_layers-1):\n",
    "    model.add(tf.keras.layers.Dense(num_neurons, activation=activation))\n",
    "  model.add(tf.keras.layers.Dense(1))\n",
    "  return model\n",
    "\n",
    "def model_fn():\n",
    "  # We _must_ create a new model here, and _not_ capture it from an external\n",
    "  # scope. TFF will call this within different graph contexts.\n",
    "  keras_model = create_keras_model(num_layers=num_layers, num_neurons=num_neurons, activation=activation)\n",
    "  return tff.learning.from_keras_model(keras_model, input_spec=BATCH_SPEC, loss=tf.keras.losses.MeanSquaredError(), metrics=[tf.keras.metrics.MeanAbsoluteError()])"
   ]
  },
  {
   "cell_type": "code",
   "execution_count": null,
   "metadata": {
    "colab": {},
    "colab_type": "code",
    "id": "vKnawUaNKcnI"
   },
   "outputs": [],
   "source": [
    "def create_keras_model():\n",
    "  return tf.keras.models.Sequential([\n",
    "      tf.keras.layers.Input(shape=(6)),\n",
    "      tf.keras.layers.Dense(10, kernel_initializer='zeros'),\n",
    "      tf.keras.layers.Dense(10, kernel_initializer='zeros'),\n",
    "      tf.keras.layers.Dense(1)])\n",
    "    \n",
    "def model_fn():\n",
    "  # We _must_ create a new model here, and _not_ capture it from an external\n",
    "  # scope. TFF will call this within different graph contexts.\n",
    "  keras_model = create_keras_model()\n",
    "  return tff.learning.from_keras_model(keras_model, input_spec=BATCH_SPEC, loss=tf.keras.losses.MeanSquaredError(), metrics=[tf.keras.metrics.MeanAbsoluteError()])"
   ]
  },
  {
   "cell_type": "code",
   "execution_count": null,
   "metadata": {
    "colab": {},
    "colab_type": "code",
    "id": "qXJEkEdWuOdD"
   },
   "outputs": [],
   "source": [
    "#initial_state = iterative_process.initialize()\n",
    "best_metric = 80\n",
    "for num_layers in [5]:\n",
    "  for num_neurons in [5,10,15,20,25]:\n",
    "    for activation in ['relu','sigmoid','tanh']:\n",
    "      print('current parameters are: ', num_layers, num_neurons, activation)\n",
    "      iterative_process = tff.learning.build_federated_averaging_process(\n",
    "          model_fn,\n",
    "          client_optimizer_fn=lambda: tf.keras.optimizers.SGD(learning_rate=0.02),\n",
    "          server_optimizer_fn=lambda: tf.keras.optimizers.SGD(learning_rate=1.0))\n",
    "      state = iterative_process.initialize()\n",
    "      NUM_ROUNDS = 100\n",
    "      loss = []\n",
    "      for round_num in range(NUM_ROUNDS):\n",
    "        state, metrics = iterative_process.next(state, federated_train_data)\n",
    "        evaluation = tff.learning.build_federated_evaluation(model_fn)\n",
    "        valid_metrics = evaluation(state.model, federated_valid_data)\n",
    "        loss.append(valid_metrics[1])\n",
    "        if len(loss) > 1:\n",
    "          if ((loss[-2]-loss[-1]) / loss[-2] < 0.005):\n",
    "            print('Train process is done')\n",
    "            break\n",
    "      if valid_metrics[0] < best_metric:\n",
    "        best_state = state\n",
    "        best_metric = valid_metrics[0]\n",
    "        best_num_layers = num_layers\n",
    "        best_num_neurons = num_neurons\n",
    "        best_activation = activation\n",
    "print('best parameters are: ', best_num_layers, best_num_neurons, best_activation, best_metric)"
   ]
  },
  {
   "cell_type": "code",
   "execution_count": null,
   "metadata": {
    "colab": {},
    "colab_type": "code",
    "id": "704Bux2pKsyo"
   },
   "outputs": [],
   "source": [
    "num_layers = 1\n",
    "num_neurons = 5\n",
    "activation = 'tanh'\n",
    "NUM_ROUNDS = 50\n",
    "iterative_process = tff.learning.build_federated_averaging_process(\n",
    "    model_fn,\n",
    "    client_optimizer_fn=lambda: tf.keras.optimizers.SGD(learning_rate=0.02),\n",
    "    server_optimizer_fn=lambda: tf.keras.optimizers.SGD(learning_rate=1.0))"
   ]
  },
  {
   "cell_type": "code",
   "execution_count": null,
   "metadata": {
    "colab": {},
    "colab_type": "code",
    "id": "E_LjlW-IK1cA"
   },
   "outputs": [],
   "source": [
    "str(iterative_process.initialize.type_signature)"
   ]
  },
  {
   "cell_type": "code",
   "execution_count": null,
   "metadata": {
    "colab": {},
    "colab_type": "code",
    "id": "eCHKq2qPK3_R"
   },
   "outputs": [],
   "source": [
    "state = iterative_process.initialize()"
   ]
  },
  {
   "cell_type": "code",
   "execution_count": null,
   "metadata": {
    "colab": {},
    "colab_type": "code",
    "id": "Rk0vwO8DdJmG"
   },
   "outputs": [],
   "source": [
    "loss = []\n",
    "for round_num in range(NUM_ROUNDS):\n",
    "  state, metrics = iterative_process.next(state, federated_train_data)\n",
    "  evaluation = tff.learning.build_federated_evaluation(model_fn)\n",
    "  valid_metrics = evaluation(state.model, federated_valid_data)\n",
    "  loss.append(valid_metrics[1])\n",
    "  if len(loss) > 1:\n",
    "    if ((loss[-2]-loss[-1]) / loss[-2] < 0.005):\n",
    "      print('Train process is done')\n",
    "      break\n",
    "  print('round {:2d}, metrics={}'.format(round_num, metrics), valid_metrics[0])"
   ]
  },
  {
   "cell_type": "code",
   "execution_count": null,
   "metadata": {
    "colab": {},
    "colab_type": "code",
    "id": "m_YUeFaVxzWa"
   },
   "outputs": [],
   "source": [
    "loss"
   ]
  },
  {
   "cell_type": "code",
   "execution_count": null,
   "metadata": {
    "colab": {},
    "colab_type": "code",
    "id": "FMvpM_HjdhsN"
   },
   "outputs": [],
   "source": [
    "evaluation = tff.learning.build_federated_evaluation(model_fn)\n",
    "valid_metrics = evaluation(state.model, federated_valid_data)"
   ]
  },
  {
   "cell_type": "code",
   "execution_count": null,
   "metadata": {
    "cellView": "code",
    "colab": {},
    "colab_type": "code",
    "id": "7V-MVVo4dnW2"
   },
   "outputs": [],
   "source": [
    "str(valid_metrics)"
   ]
  },
  {
   "cell_type": "code",
   "execution_count": null,
   "metadata": {
    "colab": {},
    "colab_type": "code",
    "id": "OBgiYW52eyj_"
   },
   "outputs": [],
   "source": [
    "forward_pass(batch_input=federated_train_data, training=False)\n",
    "a = tff.learning.Model()"
   ]
  },
  {
   "cell_type": "code",
   "execution_count": null,
   "metadata": {
    "colab": {},
    "colab_type": "code",
    "id": "ApoN7hsde1-u"
   },
   "outputs": [],
   "source": [
    "local_model = create_keras_model(best_num_layers, best_num_neurons, best_activation)\n",
    "local_fed_model = create_keras_model(best_num_layers, best_num_neurons, best_activation)"
   ]
  },
  {
   "cell_type": "code",
   "execution_count": null,
   "metadata": {
    "colab": {},
    "colab_type": "code",
    "id": "7TvZ0sb8e48F"
   },
   "outputs": [],
   "source": [
    "tff.learning.assign_weights_to_keras_model(local_fed_model, best_state.model)\n",
    "tf.keras.models.save_model(local_fed_model, '/content/drive/My Drive/Federated learning/Office_Cold_6000-9000_6-10_13')\n",
    "tf.keras.models.save_model(local_model, '/content/drive/My Drive/Federated learning/Office_Cold_6000-9000_6-10_13_no_fed')\n",
    "local_model.compile(optimizer='adam', loss='mse', metrics=['mae'])\n",
    "local_fed_model.compile(optimizer='adam', loss='mse', metrics=['mae'])"
   ]
  },
  {
   "cell_type": "code",
   "execution_count": null,
   "metadata": {
    "colab": {},
    "colab_type": "code",
    "id": "fJ0apIq8BfVh"
   },
   "outputs": [],
   "source": [
    "local_fed_model.save('/content/drive/My Drive/Federated learning/Office_Cold_6000-9000_6-10_13_2.h5')\n",
    "local_model.save('/content/drive/My Drive/Federated learning/Office_Cold_6000-9000_6-10_13_no_fed_2.h5')\n",
    "#keras.models.load_model()"
   ]
  },
  {
   "cell_type": "code",
   "execution_count": null,
   "metadata": {
    "colab": {},
    "colab_type": "code",
    "id": "PDQBBHhCfHVT"
   },
   "outputs": [],
   "source": [
    "local_model.evaluate(local_test_data[0]['x'], local_test_data[0]['y'], batch_size=32)"
   ]
  },
  {
   "cell_type": "code",
   "execution_count": null,
   "metadata": {
    "colab": {},
    "colab_type": "code",
    "id": "BG3nWE4i6P0B"
   },
   "outputs": [],
   "source": [
    "local_fed_model.evaluate(local_test_data[0]['x'], local_test_data[0]['y'], batch_size=32)"
   ]
  },
  {
   "cell_type": "code",
   "execution_count": null,
   "metadata": {
    "colab": {},
    "colab_type": "code",
    "id": "ZfhIuhDIfQm0"
   },
   "outputs": [],
   "source": [
    "early_stopping = tf.keras.callbacks.EarlyStopping(monitor='val_loss', min_delta=0, patience=5, mode='auto', baseline=None, restore_best_weights=True)\n",
    "local_model.fit(local_train_data[0]['x'], local_train_data[0]['y'], batch_size=64, epochs=100, validation_split=0.2, callbacks=[early_stopping])\n",
    "local_fed_model.fit(local_train_data[0]['x'], local_train_data[0]['y'], batch_size=64, epochs=100, validation_split=0.2, callbacks=[early_stopping])"
   ]
  },
  {
   "cell_type": "code",
   "execution_count": null,
   "metadata": {
    "colab": {},
    "colab_type": "code",
    "id": "R9UJxZXUfTlk"
   },
   "outputs": [],
   "source": [
    "p1 = local_fed_model.predict(local_test_data[1]['x'])\n",
    "p2 = local_model.predict(local_test_data[1]['x'])\n",
    "prediction1 = p1*(EC_max-EC_min)+EC_min\n",
    "prediction2 = p1*(EC_max-EC_min)+EC_min\n",
    "def CVRMSE(prediction, true):\n",
    "  return (np.sqrt(np.mean(np.square(true - prediction))) / np.mean(true))"
   ]
  },
  {
   "cell_type": "code",
   "execution_count": null,
   "metadata": {
    "colab": {},
    "colab_type": "code",
    "id": "vqpp7rORfYCF"
   },
   "outputs": [],
   "source": [
    "CVRMSE(p1, local_test_data[0]['y'])"
   ]
  }
 ],
 "metadata": {
  "colab": {
   "collapsed_sections": [],
   "name": "ANN_keras",
   "provenance": []
  },
  "kernelspec": {
   "display_name": "Python 3 (ipykernel)",
   "language": "python",
   "name": "python3"
  },
  "language_info": {
   "codemirror_mode": {
    "name": "ipython",
    "version": 3
   },
   "file_extension": ".py",
   "mimetype": "text/x-python",
   "name": "python",
   "nbconvert_exporter": "python",
   "pygments_lexer": "ipython3",
   "version": "3.9.7"
  }
 },
 "nbformat": 4,
 "nbformat_minor": 1
}
